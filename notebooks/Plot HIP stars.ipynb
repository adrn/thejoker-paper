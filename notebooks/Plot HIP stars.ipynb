{
 "cells": [
  {
   "cell_type": "code",
   "execution_count": null,
   "metadata": {
    "collapsed": true
   },
   "outputs": [],
   "source": [
    "import os\n",
    "\n",
    "import corner\n",
    "import astropy.units as u\n",
    "from matplotlib.gridspec import GridSpec\n",
    "import matplotlib.pyplot as plt\n",
    "plt.style.use('apw-notebook')\n",
    "%matplotlib inline\n",
    "import numpy as np\n",
    "import h5py\n",
    "import re\n",
    "\n",
    "from thejoker.config import P_min, P_max\n",
    "from thejoker.data import RVData\n",
    "from thejoker.util import quantity_from_hdf5\n",
    "from thejoker.celestialmechanics import SimulatedRVOrbit\n",
    "\n",
    "plt.style.use('../thejoker/thejoker.mplstyle')"
   ]
  },
  {
   "cell_type": "code",
   "execution_count": null,
   "metadata": {
    "collapsed": true
   },
   "outputs": [],
   "source": [
    "HIP102152_full_bounds = None"
   ]
  },
  {
   "cell_type": "code",
   "execution_count": null,
   "metadata": {
    "collapsed": false
   },
   "outputs": [],
   "source": [
    "# name = 'HIP11915_result'\n",
    "# name = 'HIP102152_result'\n",
    "# name = 'HIP102152_result_minus0'\n",
    "# name = 'HIP102152_result_Pmin1'\n",
    "name = 'HIP102152_result_jitter2'\n",
    "\n",
    "short_name = \"\".join(re.search('(HIP[0-9]+)_result(.*)', name).groups())\n",
    "print(short_name)\n",
    "\n",
    "output_filename = \"../cache/{}.h5\".format(name)"
   ]
  },
  {
   "cell_type": "code",
   "execution_count": null,
   "metadata": {
    "collapsed": false
   },
   "outputs": [],
   "source": [
    "with h5py.File('../data/{}.h5'.format(name), 'r') as f:\n",
    "    bmjd = f['mjd'][:]\n",
    "    rv = quantity_from_hdf5(f, 'rv')\n",
    "    rv_err = quantity_from_hdf5(f, 'rv_err')\n",
    "data = RVData(bmjd, rv, stddev=rv_err)"
   ]
  },
  {
   "cell_type": "code",
   "execution_count": null,
   "metadata": {
    "collapsed": true
   },
   "outputs": [],
   "source": [
    "if HIP102152_full_bounds is None and name == 'HIP102152_result':\n",
    "    HIP102152_full_bounds = (bmjd.min() - 50, bmjd.max() + 50)"
   ]
  },
  {
   "cell_type": "code",
   "execution_count": null,
   "metadata": {
    "collapsed": false
   },
   "outputs": [],
   "source": [
    "if '102152' in short_name:\n",
    "    t_grid_min,t_grid_max = HIP102152_full_bounds\n",
    "else:\n",
    "    t_grid_min,t_grid_max = (bmjd.min() - 50, bmjd.max() + 50)"
   ]
  },
  {
   "cell_type": "code",
   "execution_count": null,
   "metadata": {
    "collapsed": true
   },
   "outputs": [],
   "source": [
    "with h5py.File(output_filename, 'r') as g:\n",
    "    P = quantity_from_hdf5(g, 'P')\n",
    "    asini = quantity_from_hdf5(g, 'asini')\n",
    "    ecc = quantity_from_hdf5(g, 'ecc')\n",
    "    omega = quantity_from_hdf5(g, 'omega')\n",
    "    phi0 = quantity_from_hdf5(g, 'phi0')\n",
    "    v0 = quantity_from_hdf5(g, 'v0')"
   ]
  },
  {
   "cell_type": "code",
   "execution_count": null,
   "metadata": {
    "collapsed": true
   },
   "outputs": [],
   "source": [
    "all_samples = np.vstack((np.log(P.to(u.day).value),\n",
    "                         np.log(asini.to(u.R_sun).value),\n",
    "                         ecc,\n",
    "                         omega.to(u.degree).value % (360.),\n",
    "                         phi0.to(u.degree).value,\n",
    "                         v0.to(u.m/u.s).value)).T\n",
    "\n",
    "labels = [r'$\\ln (P/{\\rm day})$', r'$\\ln (a\\,\\sin i/R_\\odot)$', '$e$', r'$\\omega$ [deg]', \n",
    "          r'$\\phi_0$ [deg]', '$v_0$ [m/s]']\n",
    "ranges = [(-0.1, 9.1), (-10, 0), (0, 1), (0, 360), (0, 360), (-10, 10)]"
   ]
  },
  {
   "cell_type": "code",
   "execution_count": null,
   "metadata": {
    "collapsed": false
   },
   "outputs": [],
   "source": [
    "MAX_N_LINES = 128\n",
    "\n",
    "# a time grid to plot RV curves of the model\n",
    "t_grid = np.linspace(t_grid_min, t_grid_max, 1024)\n",
    "\n",
    "# plot samples\n",
    "fig,ax_rv = plt.subplots(figsize=(15,5))\n",
    "\n",
    "print(\"{} good samples\".format(len(P)))\n",
    "\n",
    "# the number of lines to plot is at most 128, but may be fewer if we don't have\n",
    "#   enough good samples\n",
    "n_lines = min(len(P), MAX_N_LINES)\n",
    "\n",
    "# scale the transparency of the lines\n",
    "Q = 4. # HACK\n",
    "line_alpha = 0.05 + Q / (n_lines + Q)\n",
    "\n",
    "# plot orbits over the data\n",
    "for i in range(len(P)):\n",
    "    orbit = SimulatedRVOrbit(P=P[i], a_sin_i=asini[i], ecc=ecc[i],\n",
    "                             omega=omega[i], phi0=phi0[i], v0=v0[[i]])\n",
    "    model_rv = orbit.generate_rv_curve(t_grid - data.t_offset).to(u.m/u.s).value\n",
    "    ax_rv.plot(t_grid, model_rv, linestyle='-', marker=None,\n",
    "               alpha=line_alpha, color='#555555') #color='#3182bd')\n",
    "\n",
    "    if i >= MAX_N_LINES:\n",
    "        break\n",
    "\n",
    "data.plot(ax=ax_rv, rv_unit=u.m/u.s, markersize=5)\n",
    "ax_rv.set_xlim(t_grid.min(), t_grid.max())\n",
    "_rv = data.rv.to(u.m/u.s).value\n",
    "ax_rv.set_ylim(np.median(_rv)-10, np.median(_rv)+10)\n",
    "ax_rv.set_xlabel('BMJD')\n",
    "ax_rv.set_ylabel('RV [m s$^{-1}$]')\n",
    "\n",
    "ax_rv.set_title(name)\n",
    "\n",
    "fig.tight_layout()\n",
    "fig.savefig(\"/Users/adrian/Downloads/{}-rv.png\".format(short_name), dpi=300)"
   ]
  },
  {
   "cell_type": "code",
   "execution_count": null,
   "metadata": {
    "collapsed": false
   },
   "outputs": [],
   "source": [
    "fig,axes = plt.subplots(1,3,figsize=(12,5))\n",
    "\n",
    "axes[0].hist(np.log(P.value), bins=np.linspace(np.log(P.value).min()-1, np.log(P.value).max()+1, 32))\n",
    "axes[1].hist(ecc, bins=np.linspace(0,1,32))\n",
    "\n",
    "K = (2*np.pi*asini / (P * np.sqrt(1-ecc**2))).to(u.m/u.s).value\n",
    "axes[2].hist(K, bins=np.linspace(K.min()-5,K.min()+5,16))\n",
    "\n",
    "axes[0].set_xlabel('$P$ [day]')\n",
    "axes[1].set_xlabel('$e$')\n",
    "axes[2].set_xlabel('$K$ [m s$^{-1}$]')\n",
    "\n",
    "fig.tight_layout()\n",
    "fig.savefig(\"/Users/adrian/Downloads/{}-PeK.png\".format(short_name), dpi=300)"
   ]
  },
  {
   "cell_type": "code",
   "execution_count": null,
   "metadata": {
    "collapsed": false,
    "scrolled": false
   },
   "outputs": [],
   "source": [
    "fig = corner.corner(all_samples, plot_contours=False, plot_density=False, plot_datapoints=True, \n",
    "                    data_kwargs=dict(alpha=1.), labels=labels, range=ranges)\n",
    "\n",
    "fig.tight_layout()\n",
    "fig.savefig(\"/Users/adrian/Downloads/{}-corner.png\".format(short_name), dpi=300)"
   ]
  },
  {
   "cell_type": "code",
   "execution_count": null,
   "metadata": {
    "collapsed": false
   },
   "outputs": [],
   "source": [
    "all_samples_trans = np.vstack((np.log(P.to(u.day).value),\n",
    "                               np.sqrt(asini.to(u.R_sun).value) * np.cos(phi0.to(u.radian).value),\n",
    "                               np.sqrt(asini.to(u.R_sun).value) * np.sin(phi0.to(u.radian).value),\n",
    "                               np.sqrt(ecc) * np.cos(omega).value,\n",
    "                               np.sqrt(ecc) * np.sin(omega).value,\n",
    "                               v0.to(u.m/u.s).value)).T\n",
    "\n",
    "labels_trans = [r'$\\ln P$', r'$\\sqrt{a\\,\\sin i}\\,\\cos\\phi_0$', r'$\\sqrt{a\\,\\sin i}\\,\\sin\\phi_0$',\n",
    "                r'$\\sqrt{e}\\,\\cos\\omega$', r'$\\sqrt{e}\\,\\sin\\omega$', '$v_0$']"
   ]
  },
  {
   "cell_type": "code",
   "execution_count": null,
   "metadata": {
    "collapsed": false
   },
   "outputs": [],
   "source": [
    "fig = corner.corner(all_samples_trans, plot_contours=False, plot_density=False, plot_datapoints=True, \n",
    "                    data_kwargs=dict(alpha=1.), labels=labels_trans)"
   ]
  },
  {
   "cell_type": "code",
   "execution_count": null,
   "metadata": {
    "collapsed": true
   },
   "outputs": [],
   "source": []
  },
  {
   "cell_type": "code",
   "execution_count": null,
   "metadata": {
    "collapsed": true
   },
   "outputs": [],
   "source": []
  },
  {
   "cell_type": "code",
   "execution_count": null,
   "metadata": {
    "collapsed": true
   },
   "outputs": [],
   "source": []
  },
  {
   "cell_type": "code",
   "execution_count": null,
   "metadata": {
    "collapsed": true
   },
   "outputs": [],
   "source": []
  },
  {
   "cell_type": "code",
   "execution_count": null,
   "metadata": {
    "collapsed": true
   },
   "outputs": [],
   "source": []
  },
  {
   "cell_type": "code",
   "execution_count": null,
   "metadata": {
    "collapsed": true
   },
   "outputs": [],
   "source": []
  },
  {
   "cell_type": "code",
   "execution_count": null,
   "metadata": {
    "collapsed": true
   },
   "outputs": [],
   "source": []
  },
  {
   "cell_type": "code",
   "execution_count": null,
   "metadata": {
    "collapsed": false
   },
   "outputs": [],
   "source": [
    "with h5py.File(output_filename, 'r') as g:\n",
    "    P = quantity_from_hdf5(g, 'P')\n",
    "    asini = quantity_from_hdf5(g, 'asini')\n",
    "    ecc = quantity_from_hdf5(g, 'ecc')\n",
    "    omega = quantity_from_hdf5(g, 'omega')\n",
    "    phi0 = quantity_from_hdf5(g, 'phi0')\n",
    "    v0 = quantity_from_hdf5(g, 'v0')\n",
    "    \n",
    "    print(P)\n",
    "    print(asini)"
   ]
  },
  {
   "cell_type": "code",
   "execution_count": null,
   "metadata": {
    "collapsed": false
   },
   "outputs": [],
   "source": [
    "asini / (2*np.pi / (P * np.sqrt(1-ecc**2))).value"
   ]
  },
  {
   "cell_type": "code",
   "execution_count": null,
   "metadata": {
    "collapsed": false
   },
   "outputs": [],
   "source": [
    "(2*np.pi*asini / (P * np.sqrt(1-ecc**2))).to(u.m/u.s)"
   ]
  },
  {
   "cell_type": "code",
   "execution_count": null,
   "metadata": {
    "collapsed": false
   },
   "outputs": [],
   "source": [
    "(2*np.pi*4.8*u.au / (3880*u.day * np.sqrt(1-0.1**2))).to(u.m/u.s)"
   ]
  },
  {
   "cell_type": "code",
   "execution_count": null,
   "metadata": {
    "collapsed": true
   },
   "outputs": [],
   "source": []
  }
 ],
 "metadata": {
  "anaconda-cloud": {},
  "kernelspec": {
   "display_name": "Python [conda env:thejoker]",
   "language": "python",
   "name": "conda-env-thejoker-py"
  },
  "language_info": {
   "codemirror_mode": {
    "name": "ipython",
    "version": 3
   },
   "file_extension": ".py",
   "mimetype": "text/x-python",
   "name": "python",
   "nbconvert_exporter": "python",
   "pygments_lexer": "ipython3",
   "version": "3.5.2"
  }
 },
 "nbformat": 4,
 "nbformat_minor": 1
}